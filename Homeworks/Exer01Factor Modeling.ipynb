{
 "cells": [
  {
   "cell_type": "markdown",
   "source": [
    "### Factor Modeling"
   ],
   "metadata": {
    "collapsed": false
   },
   "id": "b3046aef561481f3"
  },
  {
   "cell_type": "markdown",
   "source": [
    "### Problem\n",
    "\n",
    "투자자인 당신은 미국 주식 매매를 위해 factor modeling을 수행하고자 한다. 임의의 주식 $i$의 수익률 시계열에 대해 다음을 해결해 보자. 단, train 기간은 2021년까지로 하고, test를 위해 2022년부터의 데이터를 사용하도록 한다."
   ],
   "metadata": {
    "collapsed": false
   },
   "id": "1f747d8955584496"
  },
  {
   "cell_type": "code",
   "outputs": [],
   "source": [
    "import pandas_datareader.data as web\n",
    "import statsmodels.api as sm\n",
    "import pandas as pd\n",
    "import yfinance as yf\n",
    "import matplotlib.pyplot as plt\n",
    "import seaborn as sns"
   ],
   "metadata": {
    "collapsed": false,
    "ExecuteTime": {
     "end_time": "2024-03-24T14:59:41.895874Z",
     "start_time": "2024-03-24T14:59:41.876216Z"
    }
   },
   "id": "3eb53b4b5f8d6b9d",
   "execution_count": 2
  },
  {
   "cell_type": "markdown",
   "source": [
    "#### Problem 1\n",
    "\n",
    "`pandas_datareader`를 이용해 Fama Frech Lab으로부터 5factor model 수립을 위한 데이터를 불러온 뒤, 임의의 종목 $i$의 수익률과 접합하여 DataFrame으로 표현하라"
   ],
   "metadata": {
    "collapsed": false
   },
   "id": "b2614681772196de"
  },
  {
   "cell_type": "code",
   "outputs": [],
   "source": [],
   "metadata": {
    "collapsed": false
   },
   "id": "3f9cfa8a0ccb0da4"
  },
  {
   "cell_type": "markdown",
   "source": [
    "#### Problem 2\n",
    "\n",
    "SMB, HML, RMW, CMA 이외에 MOM, VOL, LIQ같은 추가 요인들을 고려하여 factor model를 생성하라"
   ],
   "metadata": {
    "collapsed": false
   },
   "id": "3bf1076ed7a1f2a3"
  },
  {
   "cell_type": "code",
   "outputs": [],
   "source": [],
   "metadata": {
    "collapsed": false
   },
   "id": "b21cb6e04fe48f96"
  },
  {
   "cell_type": "markdown",
   "source": [
    "#### Problem 3\n",
    "\n",
    "문제 2에서 고려한 factor에 추가적으로 macroeconomical factor를 생각해보자. 통계적으로 유의한 팩터를 만들 수 있는가?"
   ],
   "metadata": {
    "collapsed": false
   },
   "id": "11ce15b7b03f4a80"
  },
  {
   "cell_type": "code",
   "execution_count": null,
   "id": "initial_id",
   "metadata": {
    "collapsed": true
   },
   "outputs": [],
   "source": []
  }
 ],
 "metadata": {
  "kernelspec": {
   "display_name": "Python 3",
   "language": "python",
   "name": "python3"
  },
  "language_info": {
   "codemirror_mode": {
    "name": "ipython",
    "version": 2
   },
   "file_extension": ".py",
   "mimetype": "text/x-python",
   "name": "python",
   "nbconvert_exporter": "python",
   "pygments_lexer": "ipython2",
   "version": "2.7.6"
  }
 },
 "nbformat": 4,
 "nbformat_minor": 5
}
